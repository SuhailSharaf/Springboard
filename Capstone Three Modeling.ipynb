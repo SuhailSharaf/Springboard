{
 "cells": [
  {
   "cell_type": "code",
   "execution_count": 1,
   "id": "9670f7df",
   "metadata": {},
   "outputs": [],
   "source": [
    "from transformers import pipeline\n",
    "import pandas as pd "
   ]
  },
  {
   "cell_type": "code",
   "execution_count": 2,
   "id": "763aee2c",
   "metadata": {},
   "outputs": [],
   "source": [
    "#Let's read the data\n",
    "sent_data = pd.read_csv('amazon_reviews.csv')"
   ]
  },
  {
   "cell_type": "code",
   "execution_count": 3,
   "id": "edd6ef80",
   "metadata": {},
   "outputs": [],
   "source": [
    "#We'll need the strings in the reviews as a list \n",
    "sent_data = sent_data['reviewText'].values.tolist()"
   ]
  },
  {
   "cell_type": "markdown",
   "id": "af06a19c",
   "metadata": {},
   "source": [
    "# Models"
   ]
  },
  {
   "cell_type": "code",
   "execution_count": 4,
   "id": "ed8725f6",
   "metadata": {},
   "outputs": [
    {
     "name": "stderr",
     "output_type": "stream",
     "text": [
      "Some weights of the model checkpoint at distilbert-base-uncased were not used when initializing DistilBertForSequenceClassification: ['vocab_transform.weight', 'vocab_layer_norm.weight', 'vocab_projector.bias', 'vocab_layer_norm.bias', 'vocab_transform.bias', 'vocab_projector.weight']\n",
      "- This IS expected if you are initializing DistilBertForSequenceClassification from the checkpoint of a model trained on another task or with another architecture (e.g. initializing a BertForSequenceClassification model from a BertForPreTraining model).\n",
      "- This IS NOT expected if you are initializing DistilBertForSequenceClassification from the checkpoint of a model that you expect to be exactly identical (initializing a BertForSequenceClassification model from a BertForSequenceClassification model).\n",
      "Some weights of DistilBertForSequenceClassification were not initialized from the model checkpoint at distilbert-base-uncased and are newly initialized: ['classifier.bias', 'pre_classifier.bias', 'pre_classifier.weight', 'classifier.weight']\n",
      "You should probably TRAIN this model on a down-stream task to be able to use it for predictions and inference.\n"
     ]
    }
   ],
   "source": [
    "#Let's get the three models we will use\n",
    "model_1 = pipeline(\"sentiment-analysis\", model=\"distilbert-base-uncased\")\n",
    "model_2 = pipeline(\"sentiment-analysis\", model=\"distilbert-base-uncased-finetuned-sst-2-english\")\n",
    "model_3 = pipeline(\"sentiment-analysis\", model=\"juliensimon/reviews-sentiment-analysis\")"
   ]
  },
  {
   "cell_type": "markdown",
   "id": "08124ccd",
   "metadata": {},
   "source": [
    "These models are from the Hugging Face Transformers library. The three models are:<br>\n",
    "model 1: based on the DistilBERT architecture <br>\n",
    "model 2: a variant of the DistilBERT model fine-tuned on the Stanford Sentiment Treebank (SST-2) dataset<br>\n",
    "model 3: Distilbert model fine-tuned on English language product reviews by Julie Simon<br>\n",
    "These models will be called model_1, model_2, and model_3 respectively"
   ]
  },
  {
   "cell_type": "code",
   "execution_count": 5,
   "id": "bc2297a4",
   "metadata": {},
   "outputs": [
    {
     "data": {
      "text/plain": [
       "'it works as expected. I should have sprung for the higher capacity.  I think its made a bit cheesier than the earlier versions; the paint looks not as clean as before'"
      ]
     },
     "execution_count": 5,
     "metadata": {},
     "output_type": "execute_result"
    }
   ],
   "source": [
    "#Let's see the sentiment of a random review for all 3 models\n",
    "text = sent_data[2]\n",
    "text"
   ]
  },
  {
   "cell_type": "code",
   "execution_count": 6,
   "id": "6d3eac05",
   "metadata": {},
   "outputs": [
    {
     "data": {
      "text/plain": [
       "[{'label': 'LABEL_1', 'score': 0.5094072222709656}]"
      ]
     },
     "execution_count": 6,
     "metadata": {},
     "output_type": "execute_result"
    }
   ],
   "source": [
    "model_1(text)"
   ]
  },
  {
   "cell_type": "code",
   "execution_count": 7,
   "id": "244b4818",
   "metadata": {},
   "outputs": [
    {
     "data": {
      "text/plain": [
       "[{'label': 'NEGATIVE', 'score': 0.9990612864494324}]"
      ]
     },
     "execution_count": 7,
     "metadata": {},
     "output_type": "execute_result"
    }
   ],
   "source": [
    "model_2(text)"
   ]
  },
  {
   "cell_type": "code",
   "execution_count": 8,
   "id": "6be1d6e7",
   "metadata": {},
   "outputs": [
    {
     "data": {
      "text/plain": [
       "[{'label': 'LABEL_1', 'score': 0.7103031873703003}]"
      ]
     },
     "execution_count": 8,
     "metadata": {},
     "output_type": "execute_result"
    }
   ],
   "source": [
    "model_3(text)"
   ]
  },
  {
   "cell_type": "markdown",
   "id": "f2a696fe",
   "metadata": {},
   "source": [
    "For model_1 and model_3, LABEL_1 = positive and LABEL_0 = negative\n",
    "model_1 is more neutral with its score.\n",
    "model_2 has an incredibly high negative score, even though the review was nowhere near that negative. \n",
    "model_3 has an incredibly high positive score, even though the review was not that positive. However, I would say that the review is more positive than negative."
   ]
  },
  {
   "cell_type": "markdown",
   "id": "b9534f95",
   "metadata": {},
   "source": [
    "# Sentiment Analysis"
   ]
  },
  {
   "cell_type": "code",
   "execution_count": 9,
   "id": "e0a17e9c",
   "metadata": {},
   "outputs": [
    {
     "name": "stdout",
     "output_type": "stream",
     "text": [
      "Sentence: No issues.\n",
      "Sentiment Prediction: LABEL_1 with confidence 0.5161\n",
      "====================\n",
      "Sentence: Purchased this for my device, it worked as advertised. You can never have too much phone memory, since I download a lot of stuff this was a no brainer for me.\n",
      "Sentiment Prediction: LABEL_1 with confidence 0.5203\n",
      "====================\n",
      "Sentence: it works as expected. I should have sprung for the higher capacity.  I think its made a bit cheesier than the earlier versions; the paint looks not as clean as before\n",
      "Sentiment Prediction: LABEL_1 with confidence 0.5094\n",
      "====================\n",
      "Sentence: This think has worked out great.Had a diff. bran 64gb card and if went south after 3 months.This one has held up pretty well since I had my S3, now on my Note3.*** update 3/21/14I've had this for a few months and have had ZERO issue's since it was transferred from my S3 to my Note3 and into a note2. This card is reliable and solid!Cheers!\n",
      "Sentiment Prediction: LABEL_1 with confidence 0.5277\n",
      "====================\n",
      "Sentence: Bought it with Retail Packaging, arrived legit, in a orange envelope, english version not asian like the picture shows. arrived quickly, bought a 32 and 16 both retail packaging for my htc one sv and Lg Optimus, both cards in working order, probably best price you'll get for a nice sd card\n",
      "Sentiment Prediction: LABEL_1 with confidence 0.5158\n",
      "====================\n",
      "Sentence: It's mini storage.  It doesn't do anything else and it's not supposed to.  I purchased it to add additional storage to my Microsoft Surface Pro tablet which only come in 64 and 128 GB.  It does what it's supposed to and SanDisk has a long standing reputation that speaks for itself.\n",
      "Sentiment Prediction: LABEL_1 with confidence 0.5056\n",
      "====================\n",
      "Sentence: I have it in my phone and it never skips a beat. File transfers are speedy and have not had any corruption issues or memory fade issues as I would expect from the Sandisk brand. Great card to own. Why entrust your precious files to a slightly cheaper piece of crap? If you lose everything can you forgive yourself for not spending the extra couple bucks on a trusted product that goes through good QA?\n",
      "Sentiment Prediction: LABEL_1 with confidence 0.5119\n",
      "====================\n",
      "Sentence: It's hard to believe how affordable digital has become. 32 GB in a device one quarter the sie of postage stamp would have been science fiction less than a generation ago.I picked this up for portable music when I didn't want to schlep (or risk) a phone or iPod. Works great with all SD card readers.Select with confidence.\n",
      "Sentiment Prediction: LABEL_1 with confidence 0.5095\n",
      "====================\n",
      "Sentence: Works in a HTC Rezound.  Was running short of space on a 64GB Sandisk so I ordered this when it came out, fast and no issues.\n",
      "Sentiment Prediction: LABEL_1 with confidence 0.5147\n",
      "====================\n",
      "Sentence: in my galaxy s4, super fast card, and am totally happy, not happy having to still type to fill the required words though\n",
      "Sentiment Prediction: LABEL_1 with confidence 0.5121\n",
      "====================\n",
      "Sentence: I like this SD Card because it can take music video downloads, personal videos, files,docs, and multimedia images with a fast transfer rate of Class 10 speed. It can take games with large files very easily and still have enough space for apps. It&#34;s great for video cameras and camcorders with the supplied adapter. Fits very easily into smartphones and tablets SD Card slots. I recommend this 32GB SD Card to everyone.\n",
      "Sentiment Prediction: LABEL_1 with confidence 0.5039\n",
      "====================\n",
      "Sentence: It works, but file writes are a bit slower than expected on a USB3 reader.Also, both reads and writes are FASTER with the card inside the standard-size SD adapter (15 MB/s vs 10 write; 45 MB/s vs 22 MB/s read) on the same card reader.  Can't figure why...\n",
      "Sentiment Prediction: LABEL_1 with confidence 0.5072\n",
      "====================\n",
      "Sentence: THE NAME OF ITSELF SPEAKS OUT. GO SANDISK GO!\n",
      "Sentiment Prediction: LABEL_1 with confidence 0.5031\n",
      "====================\n",
      "Sentence: Solid SDHC card that is fast (at reading and writing) fast (for recording video and pics), has great capacity, and is reasonably priced. I have had no issues with it.Overall, highly recommend.\n",
      "Sentiment Prediction: LABEL_0 with confidence 0.5028\n",
      "====================\n",
      "Sentence: Heard that the card's write speed is insufficient, however I have used it extensively and haven't had a single problem with it!!\n",
      "Sentiment Prediction: LABEL_1 with confidence 0.5101\n",
      "====================\n",
      "Sentence: I bought this to use with my go pro hero 3 black edition. It requires a class 10 MicroSDXC card. So far I've had no issues with it. Fast read/write, came with adapter, small packaging, but that's all it needed! Comes with a nice hard plastic case to keep both dry and together if needed.\n",
      "Sentiment Prediction: LABEL_1 with confidence 0.5068\n",
      "====================\n",
      "Sentence: got this because i had a 2 GB one that filled up. i kept getting the insufficient disk space on my phone. my kids take my phone and do selfies. mostly my daughter. I had to get a bigger card. the 2GB one was a carry over from an old phone.needless to say this was sweet. plenty of space. and i dont have to delete pictures anymore. well for now at least.my daughter loves selfies.\n",
      "Sentiment Prediction: LABEL_1 with confidence 0.5161\n",
      "====================\n",
      "Sentence: Class 10 Speed Rating for Seamless Full HD VideoThe SanDisk Ultra UHS-I card features a Class 10 and UHS Speed Class 1 (U1) rating, the highest video performance available for recording uninterrupted Full HD** video.Flawless App PerformanceThis card can retrieve stored data almost instantly, thanks to its up to 30MB/s read capability and fast bus interface. The SanDisk Ultra microSDHC and microSDXC UHS-I cards offer faster app loading and smoother, more fluid app performance.Storage Capacities Up to 64GBThis card has plenty of room to accommodate Full HD videos, MP3s, apps, and other memory-intensive mobile files. Available in sizes up to 64GB, it can store all the apps, music, and video you want.Android App for Easy File ManagementThe included SanDisk Memory Zone app lets you easily view, access, and backup all of your digital files from your phone's memory, additional memory card, and cloud service all in one convenient place. Using the app, you can easily move files from your card to a number of cloud storage services.Durable DesignSanDisk Ultra UHS-I memory cards can capture memories from -13 to 185 degrees Fahrenheit with a shockproof, waterproof, and X-ray-proof design. Your mobile device may not survive, but your SanDisk memory card will.\n",
      "Sentiment Prediction: LABEL_1 with confidence 0.5046\n",
      "====================\n",
      "Sentence: The read and write speeds are better than the Samsung SD card that I had previously. I would not hesitate to buy another one of these great Micro SD cards from SanDisk. I also own their Clip plus MP3 player and it works very well. I think I'm becoming a fan of the SanDisk products.\n",
      "Sentiment Prediction: LABEL_1 with confidence 0.5123\n",
      "====================\n",
      "Sentence: This works with the NL1520.  No video stuttering like with the 64gb.  Blah blah blah blah to fill in the rest.\n",
      "Sentiment Prediction: LABEL_1 with confidence 0.5127\n",
      "====================\n",
      "user ended script\n"
     ]
    }
   ],
   "source": [
    "# Let's print the sentiment predictions for the first 20 reviews\n",
    "try:\n",
    "    for i, text in enumerate(sent_data):\n",
    "        prediction = model_1(text)\n",
    "        print(f\"Sentence: {text}\")\n",
    "        print(f\"Sentiment Prediction: {prediction[0]['label']} with confidence {prediction[0]['score']:.4f}\")\n",
    "        print(\"=\" * 20)\n",
    "except KeyboardInterrupt:\n",
    "    print('user ended script')"
   ]
  },
  {
   "cell_type": "code",
   "execution_count": 10,
   "id": "890561e1",
   "metadata": {},
   "outputs": [
    {
     "name": "stdout",
     "output_type": "stream",
     "text": [
      "Sentence: No issues.\n",
      "Sentiment Prediction: POSITIVE with confidence 0.7489\n",
      "====================\n",
      "Sentence: Purchased this for my device, it worked as advertised. You can never have too much phone memory, since I download a lot of stuff this was a no brainer for me.\n",
      "Sentiment Prediction: POSITIVE with confidence 0.9793\n",
      "====================\n",
      "Sentence: it works as expected. I should have sprung for the higher capacity.  I think its made a bit cheesier than the earlier versions; the paint looks not as clean as before\n",
      "Sentiment Prediction: NEGATIVE with confidence 0.9991\n",
      "====================\n",
      "Sentence: This think has worked out great.Had a diff. bran 64gb card and if went south after 3 months.This one has held up pretty well since I had my S3, now on my Note3.*** update 3/21/14I've had this for a few months and have had ZERO issue's since it was transferred from my S3 to my Note3 and into a note2. This card is reliable and solid!Cheers!\n",
      "Sentiment Prediction: POSITIVE with confidence 0.9992\n",
      "====================\n",
      "Sentence: Bought it with Retail Packaging, arrived legit, in a orange envelope, english version not asian like the picture shows. arrived quickly, bought a 32 and 16 both retail packaging for my htc one sv and Lg Optimus, both cards in working order, probably best price you'll get for a nice sd card\n",
      "Sentiment Prediction: POSITIVE with confidence 0.6493\n",
      "====================\n",
      "Sentence: It's mini storage.  It doesn't do anything else and it's not supposed to.  I purchased it to add additional storage to my Microsoft Surface Pro tablet which only come in 64 and 128 GB.  It does what it's supposed to and SanDisk has a long standing reputation that speaks for itself.\n",
      "Sentiment Prediction: POSITIVE with confidence 0.8581\n",
      "====================\n",
      "Sentence: I have it in my phone and it never skips a beat. File transfers are speedy and have not had any corruption issues or memory fade issues as I would expect from the Sandisk brand. Great card to own. Why entrust your precious files to a slightly cheaper piece of crap? If you lose everything can you forgive yourself for not spending the extra couple bucks on a trusted product that goes through good QA?\n",
      "Sentiment Prediction: POSITIVE with confidence 0.9309\n",
      "====================\n",
      "Sentence: It's hard to believe how affordable digital has become. 32 GB in a device one quarter the sie of postage stamp would have been science fiction less than a generation ago.I picked this up for portable music when I didn't want to schlep (or risk) a phone or iPod. Works great with all SD card readers.Select with confidence.\n",
      "Sentiment Prediction: POSITIVE with confidence 0.9832\n",
      "====================\n",
      "Sentence: Works in a HTC Rezound.  Was running short of space on a 64GB Sandisk so I ordered this when it came out, fast and no issues.\n",
      "Sentiment Prediction: NEGATIVE with confidence 0.9997\n",
      "====================\n",
      "Sentence: in my galaxy s4, super fast card, and am totally happy, not happy having to still type to fill the required words though\n",
      "Sentiment Prediction: POSITIVE with confidence 0.9960\n",
      "====================\n",
      "Sentence: I like this SD Card because it can take music video downloads, personal videos, files,docs, and multimedia images with a fast transfer rate of Class 10 speed. It can take games with large files very easily and still have enough space for apps. It&#34;s great for video cameras and camcorders with the supplied adapter. Fits very easily into smartphones and tablets SD Card slots. I recommend this 32GB SD Card to everyone.\n",
      "Sentiment Prediction: POSITIVE with confidence 0.9950\n",
      "====================\n",
      "Sentence: It works, but file writes are a bit slower than expected on a USB3 reader.Also, both reads and writes are FASTER with the card inside the standard-size SD adapter (15 MB/s vs 10 write; 45 MB/s vs 22 MB/s read) on the same card reader.  Can't figure why...\n",
      "Sentiment Prediction: NEGATIVE with confidence 0.9905\n",
      "====================\n",
      "Sentence: THE NAME OF ITSELF SPEAKS OUT. GO SANDISK GO!\n",
      "Sentiment Prediction: POSITIVE with confidence 0.9940\n",
      "====================\n",
      "Sentence: Solid SDHC card that is fast (at reading and writing) fast (for recording video and pics), has great capacity, and is reasonably priced. I have had no issues with it.Overall, highly recommend.\n",
      "Sentiment Prediction: POSITIVE with confidence 0.9995\n",
      "====================\n",
      "Sentence: Heard that the card's write speed is insufficient, however I have used it extensively and haven't had a single problem with it!!\n",
      "Sentiment Prediction: NEGATIVE with confidence 0.9871\n",
      "====================\n",
      "Sentence: I bought this to use with my go pro hero 3 black edition. It requires a class 10 MicroSDXC card. So far I've had no issues with it. Fast read/write, came with adapter, small packaging, but that's all it needed! Comes with a nice hard plastic case to keep both dry and together if needed.\n",
      "Sentiment Prediction: NEGATIVE with confidence 0.6857\n",
      "====================\n",
      "Sentence: got this because i had a 2 GB one that filled up. i kept getting the insufficient disk space on my phone. my kids take my phone and do selfies. mostly my daughter. I had to get a bigger card. the 2GB one was a carry over from an old phone.needless to say this was sweet. plenty of space. and i dont have to delete pictures anymore. well for now at least.my daughter loves selfies.\n",
      "Sentiment Prediction: NEGATIVE with confidence 0.9340\n",
      "====================\n",
      "Sentence: Class 10 Speed Rating for Seamless Full HD VideoThe SanDisk Ultra UHS-I card features a Class 10 and UHS Speed Class 1 (U1) rating, the highest video performance available for recording uninterrupted Full HD** video.Flawless App PerformanceThis card can retrieve stored data almost instantly, thanks to its up to 30MB/s read capability and fast bus interface. The SanDisk Ultra microSDHC and microSDXC UHS-I cards offer faster app loading and smoother, more fluid app performance.Storage Capacities Up to 64GBThis card has plenty of room to accommodate Full HD videos, MP3s, apps, and other memory-intensive mobile files. Available in sizes up to 64GB, it can store all the apps, music, and video you want.Android App for Easy File ManagementThe included SanDisk Memory Zone app lets you easily view, access, and backup all of your digital files from your phone's memory, additional memory card, and cloud service all in one convenient place. Using the app, you can easily move files from your card to a number of cloud storage services.Durable DesignSanDisk Ultra UHS-I memory cards can capture memories from -13 to 185 degrees Fahrenheit with a shockproof, waterproof, and X-ray-proof design. Your mobile device may not survive, but your SanDisk memory card will.\n",
      "Sentiment Prediction: NEGATIVE with confidence 0.7208\n",
      "====================\n",
      "Sentence: The read and write speeds are better than the Samsung SD card that I had previously. I would not hesitate to buy another one of these great Micro SD cards from SanDisk. I also own their Clip plus MP3 player and it works very well. I think I'm becoming a fan of the SanDisk products.\n",
      "Sentiment Prediction: POSITIVE with confidence 0.9997\n",
      "====================\n",
      "Sentence: This works with the NL1520.  No video stuttering like with the 64gb.  Blah blah blah blah to fill in the rest.\n",
      "Sentiment Prediction: NEGATIVE with confidence 0.9947\n",
      "====================\n",
      "user ended script\n"
     ]
    }
   ],
   "source": [
    "try:\n",
    "    for i, text in enumerate(sent_data):\n",
    "        prediction = model_2(text)\n",
    "        print(f\"Sentence: {text}\")\n",
    "        print(f\"Sentiment Prediction: {prediction[0]['label']} with confidence {prediction[0]['score']:.4f}\")\n",
    "        print(\"=\" * 20)\n",
    "except KeyboardInterrupt:\n",
    "    print('user ended script')"
   ]
  },
  {
   "cell_type": "code",
   "execution_count": 11,
   "id": "17275390",
   "metadata": {},
   "outputs": [
    {
     "name": "stdout",
     "output_type": "stream",
     "text": [
      "Sentence: No issues.\n",
      "Sentiment Prediction: LABEL_1 with confidence 0.8572\n",
      "====================\n",
      "Sentence: Purchased this for my device, it worked as advertised. You can never have too much phone memory, since I download a lot of stuff this was a no brainer for me.\n",
      "Sentiment Prediction: LABEL_1 with confidence 0.9663\n",
      "====================\n",
      "Sentence: it works as expected. I should have sprung for the higher capacity.  I think its made a bit cheesier than the earlier versions; the paint looks not as clean as before\n",
      "Sentiment Prediction: LABEL_1 with confidence 0.7103\n",
      "====================\n",
      "Sentence: This think has worked out great.Had a diff. bran 64gb card and if went south after 3 months.This one has held up pretty well since I had my S3, now on my Note3.*** update 3/21/14I've had this for a few months and have had ZERO issue's since it was transferred from my S3 to my Note3 and into a note2. This card is reliable and solid!Cheers!\n",
      "Sentiment Prediction: LABEL_1 with confidence 0.9583\n",
      "====================\n",
      "Sentence: Bought it with Retail Packaging, arrived legit, in a orange envelope, english version not asian like the picture shows. arrived quickly, bought a 32 and 16 both retail packaging for my htc one sv and Lg Optimus, both cards in working order, probably best price you'll get for a nice sd card\n",
      "Sentiment Prediction: LABEL_1 with confidence 0.7878\n",
      "====================\n",
      "Sentence: It's mini storage.  It doesn't do anything else and it's not supposed to.  I purchased it to add additional storage to my Microsoft Surface Pro tablet which only come in 64 and 128 GB.  It does what it's supposed to and SanDisk has a long standing reputation that speaks for itself.\n",
      "Sentiment Prediction: LABEL_0 with confidence 0.8510\n",
      "====================\n",
      "Sentence: I have it in my phone and it never skips a beat. File transfers are speedy and have not had any corruption issues or memory fade issues as I would expect from the Sandisk brand. Great card to own. Why entrust your precious files to a slightly cheaper piece of crap? If you lose everything can you forgive yourself for not spending the extra couple bucks on a trusted product that goes through good QA?\n",
      "Sentiment Prediction: LABEL_1 with confidence 0.9682\n",
      "====================\n",
      "Sentence: It's hard to believe how affordable digital has become. 32 GB in a device one quarter the sie of postage stamp would have been science fiction less than a generation ago.I picked this up for portable music when I didn't want to schlep (or risk) a phone or iPod. Works great with all SD card readers.Select with confidence.\n",
      "Sentiment Prediction: LABEL_1 with confidence 0.9039\n",
      "====================\n",
      "Sentence: Works in a HTC Rezound.  Was running short of space on a 64GB Sandisk so I ordered this when it came out, fast and no issues.\n",
      "Sentiment Prediction: LABEL_1 with confidence 0.9514\n",
      "====================\n",
      "Sentence: in my galaxy s4, super fast card, and am totally happy, not happy having to still type to fill the required words though\n",
      "Sentiment Prediction: LABEL_1 with confidence 0.7788\n",
      "====================\n",
      "Sentence: I like this SD Card because it can take music video downloads, personal videos, files,docs, and multimedia images with a fast transfer rate of Class 10 speed. It can take games with large files very easily and still have enough space for apps. It&#34;s great for video cameras and camcorders with the supplied adapter. Fits very easily into smartphones and tablets SD Card slots. I recommend this 32GB SD Card to everyone.\n",
      "Sentiment Prediction: LABEL_1 with confidence 0.9900\n",
      "====================\n",
      "Sentence: It works, but file writes are a bit slower than expected on a USB3 reader.Also, both reads and writes are FASTER with the card inside the standard-size SD adapter (15 MB/s vs 10 write; 45 MB/s vs 22 MB/s read) on the same card reader.  Can't figure why...\n",
      "Sentiment Prediction: LABEL_0 with confidence 0.6553\n",
      "====================\n",
      "Sentence: THE NAME OF ITSELF SPEAKS OUT. GO SANDISK GO!\n",
      "Sentiment Prediction: LABEL_0 with confidence 0.9083\n",
      "====================\n",
      "Sentence: Solid SDHC card that is fast (at reading and writing) fast (for recording video and pics), has great capacity, and is reasonably priced. I have had no issues with it.Overall, highly recommend.\n",
      "Sentiment Prediction: LABEL_1 with confidence 0.9895\n",
      "====================\n",
      "Sentence: Heard that the card's write speed is insufficient, however I have used it extensively and haven't had a single problem with it!!\n",
      "Sentiment Prediction: LABEL_0 with confidence 0.5591\n",
      "====================\n",
      "Sentence: I bought this to use with my go pro hero 3 black edition. It requires a class 10 MicroSDXC card. So far I've had no issues with it. Fast read/write, came with adapter, small packaging, but that's all it needed! Comes with a nice hard plastic case to keep both dry and together if needed.\n",
      "Sentiment Prediction: LABEL_1 with confidence 0.8948\n",
      "====================\n",
      "Sentence: got this because i had a 2 GB one that filled up. i kept getting the insufficient disk space on my phone. my kids take my phone and do selfies. mostly my daughter. I had to get a bigger card. the 2GB one was a carry over from an old phone.needless to say this was sweet. plenty of space. and i dont have to delete pictures anymore. well for now at least.my daughter loves selfies.\n",
      "Sentiment Prediction: LABEL_0 with confidence 0.8897\n",
      "====================\n",
      "Sentence: Class 10 Speed Rating for Seamless Full HD VideoThe SanDisk Ultra UHS-I card features a Class 10 and UHS Speed Class 1 (U1) rating, the highest video performance available for recording uninterrupted Full HD** video.Flawless App PerformanceThis card can retrieve stored data almost instantly, thanks to its up to 30MB/s read capability and fast bus interface. The SanDisk Ultra microSDHC and microSDXC UHS-I cards offer faster app loading and smoother, more fluid app performance.Storage Capacities Up to 64GBThis card has plenty of room to accommodate Full HD videos, MP3s, apps, and other memory-intensive mobile files. Available in sizes up to 64GB, it can store all the apps, music, and video you want.Android App for Easy File ManagementThe included SanDisk Memory Zone app lets you easily view, access, and backup all of your digital files from your phone's memory, additional memory card, and cloud service all in one convenient place. Using the app, you can easily move files from your card to a number of cloud storage services.Durable DesignSanDisk Ultra UHS-I memory cards can capture memories from -13 to 185 degrees Fahrenheit with a shockproof, waterproof, and X-ray-proof design. Your mobile device may not survive, but your SanDisk memory card will.\n",
      "Sentiment Prediction: LABEL_1 with confidence 0.9583\n",
      "====================\n",
      "Sentence: The read and write speeds are better than the Samsung SD card that I had previously. I would not hesitate to buy another one of these great Micro SD cards from SanDisk. I also own their Clip plus MP3 player and it works very well. I think I'm becoming a fan of the SanDisk products.\n",
      "Sentiment Prediction: LABEL_1 with confidence 0.9302\n",
      "====================\n",
      "Sentence: This works with the NL1520.  No video stuttering like with the 64gb.  Blah blah blah blah to fill in the rest.\n",
      "Sentiment Prediction: LABEL_1 with confidence 0.9203\n",
      "====================\n",
      "user ended script\n"
     ]
    }
   ],
   "source": [
    "try:\n",
    "    for i, text in enumerate(sent_data):\n",
    "        prediction = model_3(text)\n",
    "        print(f\"Sentence: {text}\")\n",
    "        print(f\"Sentiment Prediction: {prediction[0]['label']} with confidence {prediction[0]['score']:.4f}\")\n",
    "        print(\"=\" * 20)\n",
    "except KeyboardInterrupt:\n",
    "    print('user ended script')"
   ]
  },
  {
   "cell_type": "markdown",
   "id": "09c4cb44",
   "metadata": {},
   "source": [
    "It seems that:\n",
    "model_1 will almost always have a score that is as close to 50% as possible<br>\n",
    "model_2 will almost always be extreme as possible, either 90-99% negative or 90-99%+ positive<br>\n",
    "model_3 seems to more tempered than model_1 and model_2"
   ]
  },
  {
   "cell_type": "code",
   "execution_count": 12,
   "id": "435803d3",
   "metadata": {},
   "outputs": [
    {
     "data": {
      "text/plain": [
       "\"This item was priced right and fit right into my cell phone without any issues. Does what it is suppose to do and I don't know what else I could say. Being a class 10 it is suppose to be plenty fast for cell phone use which I am sure speeds up camera use to some degree. Has worked well and the shipping was fast.\""
      ]
     },
     "execution_count": 12,
     "metadata": {},
     "output_type": "execute_result"
    }
   ],
   "source": [
    "#Let's look at 2 more reviews. We'll do the reviews at index 100 and 3000\n",
    "practice_text = sent_data[100]\n",
    "practice_text"
   ]
  },
  {
   "cell_type": "code",
   "execution_count": 13,
   "id": "77da4240",
   "metadata": {},
   "outputs": [
    {
     "data": {
      "text/plain": [
       "[{'label': 'LABEL_1', 'score': 0.5204753279685974}]"
      ]
     },
     "execution_count": 13,
     "metadata": {},
     "output_type": "execute_result"
    }
   ],
   "source": [
    "model_1(practice_text)"
   ]
  },
  {
   "cell_type": "code",
   "execution_count": 14,
   "id": "a1a10c53",
   "metadata": {},
   "outputs": [
    {
     "data": {
      "text/plain": [
       "[{'label': 'POSITIVE', 'score': 0.9289764165878296}]"
      ]
     },
     "execution_count": 14,
     "metadata": {},
     "output_type": "execute_result"
    }
   ],
   "source": [
    "model_2(practice_text)"
   ]
  },
  {
   "cell_type": "code",
   "execution_count": 15,
   "id": "04411c95",
   "metadata": {},
   "outputs": [
    {
     "data": {
      "text/plain": [
       "[{'label': 'LABEL_1', 'score': 0.968295156955719}]"
      ]
     },
     "execution_count": 15,
     "metadata": {},
     "output_type": "execute_result"
    }
   ],
   "source": [
    "model_3(practice_text)"
   ]
  },
  {
   "cell_type": "markdown",
   "id": "1576185d",
   "metadata": {},
   "source": [
    "model_1 is not able to be any higher than 55%, and that hurts it when looking at this review.<br>\n",
    "model_2 is correct and model_3 are correct.<br>\n",
    "It is interesting that model_3 has a higher score than model_2, as that is usually not the case. However, this review is quite positive, so it makes sense. "
   ]
  },
  {
   "cell_type": "code",
   "execution_count": 16,
   "id": "7835a0ce",
   "metadata": {},
   "outputs": [
    {
     "data": {
      "text/plain": [
       "'Plenty of extra storage can load a lot of movies in high definition, music and a boat load of other stuff.'"
      ]
     },
     "execution_count": 16,
     "metadata": {},
     "output_type": "execute_result"
    }
   ],
   "source": [
    "practice_text2 = sent_data[3000]\n",
    "practice_text2"
   ]
  },
  {
   "cell_type": "code",
   "execution_count": 17,
   "id": "999db6aa",
   "metadata": {},
   "outputs": [
    {
     "data": {
      "text/plain": [
       "[{'label': 'LABEL_1', 'score': 0.5050829648971558}]"
      ]
     },
     "execution_count": 17,
     "metadata": {},
     "output_type": "execute_result"
    }
   ],
   "source": [
    "model_1(practice_text2)"
   ]
  },
  {
   "cell_type": "code",
   "execution_count": 18,
   "id": "3a11439f",
   "metadata": {},
   "outputs": [
    {
     "data": {
      "text/plain": [
       "[{'label': 'NEGATIVE', 'score': 0.994924783706665}]"
      ]
     },
     "execution_count": 18,
     "metadata": {},
     "output_type": "execute_result"
    }
   ],
   "source": [
    "model_2(practice_text2)"
   ]
  },
  {
   "cell_type": "code",
   "execution_count": 19,
   "id": "06e547c5",
   "metadata": {},
   "outputs": [
    {
     "data": {
      "text/plain": [
       "[{'label': 'LABEL_1', 'score': 0.9126739501953125}]"
      ]
     },
     "execution_count": 19,
     "metadata": {},
     "output_type": "execute_result"
    }
   ],
   "source": [
    "model_3(practice_text2)"
   ]
  },
  {
   "cell_type": "markdown",
   "id": "f127d551",
   "metadata": {},
   "source": [
    "Overall: <br>\n",
    "model_1 has the sentiment correct, but can not handle extremes(very positive or very negative reviews). <br>\n",
    "model_2 is incorrect about the sentiment for this review. It rarely seems to capture reviews that are more neutral. <br>\n",
    "model_3 is correct about the sentiment and the score. It generally seems to handle extreme reviews better than model_1 and neutral reviews better than model_2."
   ]
  },
  {
   "cell_type": "markdown",
   "id": "67f8b625",
   "metadata": {},
   "source": [
    "# Created Reviews"
   ]
  },
  {
   "cell_type": "code",
   "execution_count": 20,
   "id": "d92bf153",
   "metadata": {},
   "outputs": [],
   "source": [
    "#Let's try three brand new strings(one super positive, one super negative, and one neutral)\n",
    "best_string = \"This is the greatest sd card I have ever used, and I have used many throughout my lifetime. Enough said.\"\n",
    "worst_string = \"I really have no words for this. This piece of trash that they call a SD card is useless.\"\n",
    "neutral_string = \"It works fine enough. The file transfer speed could be faster though.\""
   ]
  },
  {
   "cell_type": "code",
   "execution_count": 21,
   "id": "ec893ec2",
   "metadata": {},
   "outputs": [
    {
     "data": {
      "text/plain": [
       "[{'label': 'LABEL_0', 'score': 0.5020228028297424}]"
      ]
     },
     "execution_count": 21,
     "metadata": {},
     "output_type": "execute_result"
    }
   ],
   "source": [
    "model_1(best_string)"
   ]
  },
  {
   "cell_type": "code",
   "execution_count": 22,
   "id": "2922a8ad",
   "metadata": {},
   "outputs": [
    {
     "data": {
      "text/plain": [
       "[{'label': 'POSITIVE', 'score': 0.9996123909950256}]"
      ]
     },
     "execution_count": 22,
     "metadata": {},
     "output_type": "execute_result"
    }
   ],
   "source": [
    "model_2(best_string)"
   ]
  },
  {
   "cell_type": "code",
   "execution_count": 23,
   "id": "1a7b9d43",
   "metadata": {},
   "outputs": [
    {
     "data": {
      "text/plain": [
       "[{'label': 'LABEL_1', 'score': 0.9721803665161133}]"
      ]
     },
     "execution_count": 23,
     "metadata": {},
     "output_type": "execute_result"
    }
   ],
   "source": [
    "model_3(best_string)"
   ]
  },
  {
   "cell_type": "code",
   "execution_count": 24,
   "id": "55b81117",
   "metadata": {},
   "outputs": [
    {
     "data": {
      "text/plain": [
       "[{'label': 'LABEL_1', 'score': 0.5084934234619141}]"
      ]
     },
     "execution_count": 24,
     "metadata": {},
     "output_type": "execute_result"
    }
   ],
   "source": [
    "model_1(worst_string)"
   ]
  },
  {
   "cell_type": "code",
   "execution_count": 25,
   "id": "a1b0aca2",
   "metadata": {},
   "outputs": [
    {
     "data": {
      "text/plain": [
       "[{'label': 'NEGATIVE', 'score': 0.9998171925544739}]"
      ]
     },
     "execution_count": 25,
     "metadata": {},
     "output_type": "execute_result"
    }
   ],
   "source": [
    "model_2(worst_string)"
   ]
  },
  {
   "cell_type": "code",
   "execution_count": 26,
   "id": "c6a8fcc7",
   "metadata": {},
   "outputs": [
    {
     "data": {
      "text/plain": [
       "[{'label': 'LABEL_0', 'score': 0.9995878338813782}]"
      ]
     },
     "execution_count": 26,
     "metadata": {},
     "output_type": "execute_result"
    }
   ],
   "source": [
    "model_3(worst_string)"
   ]
  },
  {
   "cell_type": "code",
   "execution_count": 27,
   "id": "45472174",
   "metadata": {},
   "outputs": [
    {
     "data": {
      "text/plain": [
       "[{'label': 'LABEL_1', 'score': 0.5166916251182556}]"
      ]
     },
     "execution_count": 27,
     "metadata": {},
     "output_type": "execute_result"
    }
   ],
   "source": [
    "model_1(neutral_string)"
   ]
  },
  {
   "cell_type": "code",
   "execution_count": 28,
   "id": "2c5dfbd2",
   "metadata": {},
   "outputs": [
    {
     "data": {
      "text/plain": [
       "[{'label': 'POSITIVE', 'score': 0.998728334903717}]"
      ]
     },
     "execution_count": 28,
     "metadata": {},
     "output_type": "execute_result"
    }
   ],
   "source": [
    "model_2(neutral_string)"
   ]
  },
  {
   "cell_type": "code",
   "execution_count": 29,
   "id": "189f4259",
   "metadata": {},
   "outputs": [
    {
     "data": {
      "text/plain": [
       "[{'label': 'LABEL_0', 'score': 0.5405436158180237}]"
      ]
     },
     "execution_count": 29,
     "metadata": {},
     "output_type": "execute_result"
    }
   ],
   "source": [
    "model_3(neutral_string)"
   ]
  },
  {
   "cell_type": "markdown",
   "id": "28c7f9b4",
   "metadata": {},
   "source": [
    "# Results"
   ]
  },
  {
   "cell_type": "markdown",
   "id": "8ba3945b",
   "metadata": {},
   "source": [
    "For the positive string, these are the models ranked:<br>\n",
    "1)model_2 = (sentiment = positive, score = 99.96%)<br>\n",
    "2)model_3 = (sentiment = positive, score = 97.22%)<br>\n",
    "3)model_1 = (sentiment = positive, score = 50.69%)<br>\n",
    "\n",
    "For the negative string, these are the models ranked:<br>\n",
    "1)model_2 = (sentiment = negative, score = 99.98%)<br>\n",
    "2)model_3 = (sentiment = negative, score = 99.96%)<br>\n",
    "3)model_1 = (sentiment = positive, score = 51.08%)<br>\n",
    "\n",
    "For the neutral string, these are the models ranked:<br>\n",
    "1)model_1 = (sentiment = positive, score = 52.66%)<br>\n",
    "2)model_3 = (sentiment = negative, score = 54.05%)<br>\n",
    "3)model_2 = (sentiment = positive, score = 99.87%)<br>"
   ]
  },
  {
   "cell_type": "markdown",
   "id": "8edeeb39",
   "metadata": {},
   "source": [
    "# Conclusion"
   ]
  },
  {
   "cell_type": "markdown",
   "id": "44ab660f",
   "metadata": {},
   "source": [
    "model_1 can handle neutral reviews well, but not extremely positive or extremely negative reviews well. <br>model_2 can handle extremely negative and extremely positive reviews well, but not neutral reviews well. <br>model_3 can handle extremely positive, extremely negative, and neutral reviews well. \n",
    "\n",
    "So, model_3 is the best model of the three models for sentiment analysis."
   ]
  }
 ],
 "metadata": {
  "kernelspec": {
   "display_name": "Python 3 (ipykernel)",
   "language": "python",
   "name": "python3"
  },
  "language_info": {
   "codemirror_mode": {
    "name": "ipython",
    "version": 3
   },
   "file_extension": ".py",
   "mimetype": "text/x-python",
   "name": "python",
   "nbconvert_exporter": "python",
   "pygments_lexer": "ipython3",
   "version": "3.10.9"
  }
 },
 "nbformat": 4,
 "nbformat_minor": 5
}
