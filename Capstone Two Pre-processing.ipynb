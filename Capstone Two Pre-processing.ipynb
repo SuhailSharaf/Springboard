{
 "cells": [
  {
   "cell_type": "code",
   "execution_count": 1,
   "id": "6122fb1f",
   "metadata": {},
   "outputs": [],
   "source": [
    "import pandas as pd \n",
    "import numpy as np\n",
    "from sklearn import preprocessing \n",
    "from sklearn.preprocessing import MinMaxScaler "
   ]
  },
  {
   "cell_type": "code",
   "execution_count": 2,
   "id": "835fd910",
   "metadata": {},
   "outputs": [],
   "source": [
    "sales_data = pd.read_csv(\"sales_2019.csv\")"
   ]
  },
  {
   "cell_type": "code",
   "execution_count": 3,
   "id": "729f90a1",
   "metadata": {},
   "outputs": [
    {
     "data": {
      "text/html": [
       "<div>\n",
       "<style scoped>\n",
       "    .dataframe tbody tr th:only-of-type {\n",
       "        vertical-align: middle;\n",
       "    }\n",
       "\n",
       "    .dataframe tbody tr th {\n",
       "        vertical-align: top;\n",
       "    }\n",
       "\n",
       "    .dataframe thead th {\n",
       "        text-align: right;\n",
       "    }\n",
       "</style>\n",
       "<table border=\"1\" class=\"dataframe\">\n",
       "  <thead>\n",
       "    <tr style=\"text-align: right;\">\n",
       "      <th></th>\n",
       "      <th>Order ID</th>\n",
       "      <th>Product</th>\n",
       "      <th>Quantity Ordered</th>\n",
       "      <th>Price Each</th>\n",
       "      <th>Order Date</th>\n",
       "      <th>Purchase Address</th>\n",
       "    </tr>\n",
       "  </thead>\n",
       "  <tbody>\n",
       "    <tr>\n",
       "      <th>0</th>\n",
       "      <td>141234</td>\n",
       "      <td>iPhone</td>\n",
       "      <td>1</td>\n",
       "      <td>700.00</td>\n",
       "      <td>1/22/2019 21:25</td>\n",
       "      <td>944 Walnut St, Boston, MA 02215</td>\n",
       "    </tr>\n",
       "    <tr>\n",
       "      <th>1</th>\n",
       "      <td>141235</td>\n",
       "      <td>Lightning Charging Cable</td>\n",
       "      <td>1</td>\n",
       "      <td>14.95</td>\n",
       "      <td>1/28/2019 14:15</td>\n",
       "      <td>185 Maple St, Portland, OR 97035</td>\n",
       "    </tr>\n",
       "    <tr>\n",
       "      <th>2</th>\n",
       "      <td>141236</td>\n",
       "      <td>Wired Headphones</td>\n",
       "      <td>2</td>\n",
       "      <td>11.99</td>\n",
       "      <td>1/17/2019 13:33</td>\n",
       "      <td>538 Adams St, San Francisco, CA 94016</td>\n",
       "    </tr>\n",
       "    <tr>\n",
       "      <th>3</th>\n",
       "      <td>141237</td>\n",
       "      <td>27in FHD Monitor</td>\n",
       "      <td>1</td>\n",
       "      <td>149.99</td>\n",
       "      <td>1/5/2019 20:33</td>\n",
       "      <td>738 10th St, Los Angeles, CA 90001</td>\n",
       "    </tr>\n",
       "    <tr>\n",
       "      <th>4</th>\n",
       "      <td>141238</td>\n",
       "      <td>Wired Headphones</td>\n",
       "      <td>1</td>\n",
       "      <td>11.99</td>\n",
       "      <td>1/25/2019 11:59</td>\n",
       "      <td>387 10th St, Austin, TX 73301</td>\n",
       "    </tr>\n",
       "  </tbody>\n",
       "</table>\n",
       "</div>"
      ],
      "text/plain": [
       "   Order ID                   Product  Quantity Ordered  Price Each  \\\n",
       "0    141234                    iPhone                 1      700.00   \n",
       "1    141235  Lightning Charging Cable                 1       14.95   \n",
       "2    141236          Wired Headphones                 2       11.99   \n",
       "3    141237          27in FHD Monitor                 1      149.99   \n",
       "4    141238          Wired Headphones                 1       11.99   \n",
       "\n",
       "        Order Date                       Purchase Address  \n",
       "0  1/22/2019 21:25        944 Walnut St, Boston, MA 02215  \n",
       "1  1/28/2019 14:15       185 Maple St, Portland, OR 97035  \n",
       "2  1/17/2019 13:33  538 Adams St, San Francisco, CA 94016  \n",
       "3   1/5/2019 20:33     738 10th St, Los Angeles, CA 90001  \n",
       "4  1/25/2019 11:59          387 10th St, Austin, TX 73301  "
      ]
     },
     "execution_count": 3,
     "metadata": {},
     "output_type": "execute_result"
    }
   ],
   "source": [
    "sales_data.head()"
   ]
  },
  {
   "cell_type": "code",
   "execution_count": 4,
   "id": "73bda859",
   "metadata": {},
   "outputs": [
    {
     "data": {
      "text/plain": [
       "array([18, 12, 17,  2,  5,  1, 15,  7,  6, 13,  8, 16,  4,  9,  0,  3, 14,\n",
       "       10, 11])"
      ]
     },
     "execution_count": 4,
     "metadata": {},
     "output_type": "execute_result"
    }
   ],
   "source": [
    "label_encoder = preprocessing.LabelEncoder()\n",
    "sales_data['Product'] = label_encoder.fit_transform(sales_data['Product'])\n",
    "sales_data['Product'].unique()"
   ]
  },
  {
   "cell_type": "code",
   "execution_count": 6,
   "id": "98f65c9b",
   "metadata": {},
   "outputs": [],
   "source": [
    "sales_data['City'] = sales_data['Purchase Address'].str.split(',').str[1]\n",
    "sales_data['State'] = sales_data['Purchase Address'].str.split(',').str[2]"
   ]
  },
  {
   "cell_type": "code",
   "execution_count": 7,
   "id": "0a89b66d",
   "metadata": {},
   "outputs": [
    {
     "name": "stdout",
     "output_type": "stream",
     "text": [
      "        Order ID  Product  Quantity Ordered  Price Each        Order Date  \\\n",
      "0         141234       18                 1      700.00   1/22/2019 21:25   \n",
      "1         141235       12                 1       14.95   1/28/2019 14:15   \n",
      "2         141236       17                 2       11.99   1/17/2019 13:33   \n",
      "3         141237        2                 1      149.99    1/5/2019 20:33   \n",
      "4         141238       17                 1       11.99   1/25/2019 11:59   \n",
      "...          ...      ...               ...         ...               ...   \n",
      "185945    319666       12                 1       14.95  12/11/2019 20:58   \n",
      "185946    319667        4                 2        3.84   12/1/2019 12:01   \n",
      "185947    319668       16                 1      400.00    12/9/2019 6:43   \n",
      "185948    319669       17                 1       11.99   12/3/2019 10:39   \n",
      "185949    319670        7                 1       99.99  12/21/2019 21:45   \n",
      "\n",
      "                              Purchase Address            City      State  \n",
      "0              944 Walnut St, Boston, MA 02215          Boston   MA 02215  \n",
      "1             185 Maple St, Portland, OR 97035        Portland   OR 97035  \n",
      "2        538 Adams St, San Francisco, CA 94016   San Francisco   CA 94016  \n",
      "3           738 10th St, Los Angeles, CA 90001     Los Angeles   CA 90001  \n",
      "4                387 10th St, Austin, TX 73301          Austin   TX 73301  \n",
      "...                                        ...             ...        ...  \n",
      "185945  14 Madison St, San Francisco, CA 94016   San Francisco   CA 94016  \n",
      "185946    549 Willow St, Los Angeles, CA 90001     Los Angeles   CA 90001  \n",
      "185947        273 Wilson St, Seattle, WA 98101         Seattle   WA 98101  \n",
      "185948          778 River St, Dallas, TX 75001          Dallas   TX 75001  \n",
      "185949  747 Chestnut St, Los Angeles, CA 90001     Los Angeles   CA 90001  \n",
      "\n",
      "[185950 rows x 8 columns]\n"
     ]
    }
   ],
   "source": [
    "print(sales_data)"
   ]
  },
  {
   "cell_type": "code",
   "execution_count": 8,
   "id": "e35a8535",
   "metadata": {},
   "outputs": [
    {
     "name": "stderr",
     "output_type": "stream",
     "text": [
      "C:\\Users\\16096\\AppData\\Local\\Temp\\ipykernel_3920\\1452098177.py:1: FutureWarning: The default value of regex will change from True to False in a future version.\n",
      "  sales_data['State'] = sales_data['State'].str.replace('\\d+', '')\n"
     ]
    }
   ],
   "source": [
    "sales_data['State'] = sales_data['State'].str.replace('\\d+', '')"
   ]
  },
  {
   "cell_type": "code",
   "execution_count": 9,
   "id": "278a6458",
   "metadata": {},
   "outputs": [
    {
     "name": "stdout",
     "output_type": "stream",
     "text": [
      "        Order ID  Product  Quantity Ordered  Price Each        Order Date  \\\n",
      "0         141234       18                 1      700.00   1/22/2019 21:25   \n",
      "1         141235       12                 1       14.95   1/28/2019 14:15   \n",
      "2         141236       17                 2       11.99   1/17/2019 13:33   \n",
      "3         141237        2                 1      149.99    1/5/2019 20:33   \n",
      "4         141238       17                 1       11.99   1/25/2019 11:59   \n",
      "...          ...      ...               ...         ...               ...   \n",
      "185945    319666       12                 1       14.95  12/11/2019 20:58   \n",
      "185946    319667        4                 2        3.84   12/1/2019 12:01   \n",
      "185947    319668       16                 1      400.00    12/9/2019 6:43   \n",
      "185948    319669       17                 1       11.99   12/3/2019 10:39   \n",
      "185949    319670        7                 1       99.99  12/21/2019 21:45   \n",
      "\n",
      "                              Purchase Address            City State  \n",
      "0              944 Walnut St, Boston, MA 02215          Boston   MA   \n",
      "1             185 Maple St, Portland, OR 97035        Portland   OR   \n",
      "2        538 Adams St, San Francisco, CA 94016   San Francisco   CA   \n",
      "3           738 10th St, Los Angeles, CA 90001     Los Angeles   CA   \n",
      "4                387 10th St, Austin, TX 73301          Austin   TX   \n",
      "...                                        ...             ...   ...  \n",
      "185945  14 Madison St, San Francisco, CA 94016   San Francisco   CA   \n",
      "185946    549 Willow St, Los Angeles, CA 90001     Los Angeles   CA   \n",
      "185947        273 Wilson St, Seattle, WA 98101         Seattle   WA   \n",
      "185948          778 River St, Dallas, TX 75001          Dallas   TX   \n",
      "185949  747 Chestnut St, Los Angeles, CA 90001     Los Angeles   CA   \n",
      "\n",
      "[185950 rows x 8 columns]\n"
     ]
    }
   ],
   "source": [
    "print(sales_data)"
   ]
  },
  {
   "cell_type": "code",
   "execution_count": 10,
   "id": "b9cd6700",
   "metadata": {},
   "outputs": [
    {
     "data": {
      "text/plain": [
       "array([2, 6, 7, 4, 1, 0, 8, 5, 3])"
      ]
     },
     "execution_count": 10,
     "metadata": {},
     "output_type": "execute_result"
    }
   ],
   "source": [
    "sales_data['City'] = label_encoder.fit_transform(sales_data['City'])\n",
    "sales_data['City'].unique()"
   ]
  },
  {
   "cell_type": "code",
   "execution_count": 11,
   "id": "306c2c78",
   "metadata": {},
   "outputs": [
    {
     "data": {
      "text/plain": [
       "array([2, 5, 0, 6, 1, 7, 4, 3])"
      ]
     },
     "execution_count": 11,
     "metadata": {},
     "output_type": "execute_result"
    }
   ],
   "source": [
    "sales_data['State'] = label_encoder.fit_transform(sales_data['State'])\n",
    "sales_data['State'].unique()"
   ]
  },
  {
   "cell_type": "code",
   "execution_count": 12,
   "id": "8846f521",
   "metadata": {},
   "outputs": [],
   "source": [
    "sales_data.drop('Purchase Address', axis=1, inplace=True)"
   ]
  },
  {
   "cell_type": "code",
   "execution_count": 13,
   "id": "c8322784",
   "metadata": {},
   "outputs": [
    {
     "name": "stdout",
     "output_type": "stream",
     "text": [
      "        Order ID  Product  Quantity Ordered  Price Each        Order Date  \\\n",
      "0         141234       18                 1      700.00   1/22/2019 21:25   \n",
      "1         141235       12                 1       14.95   1/28/2019 14:15   \n",
      "2         141236       17                 2       11.99   1/17/2019 13:33   \n",
      "3         141237        2                 1      149.99    1/5/2019 20:33   \n",
      "4         141238       17                 1       11.99   1/25/2019 11:59   \n",
      "...          ...      ...               ...         ...               ...   \n",
      "185945    319666       12                 1       14.95  12/11/2019 20:58   \n",
      "185946    319667        4                 2        3.84   12/1/2019 12:01   \n",
      "185947    319668       16                 1      400.00    12/9/2019 6:43   \n",
      "185948    319669       17                 1       11.99   12/3/2019 10:39   \n",
      "185949    319670        7                 1       99.99  12/21/2019 21:45   \n",
      "\n",
      "        City  State  \n",
      "0          2      2  \n",
      "1          6      5  \n",
      "2          7      0  \n",
      "3          4      0  \n",
      "4          1      6  \n",
      "...      ...    ...  \n",
      "185945     7      0  \n",
      "185946     4      0  \n",
      "185947     8      7  \n",
      "185948     3      6  \n",
      "185949     4      0  \n",
      "\n",
      "[185950 rows x 7 columns]\n"
     ]
    }
   ],
   "source": [
    "print(sales_data)"
   ]
  },
  {
   "cell_type": "code",
   "execution_count": 14,
   "id": "cf10f8f9",
   "metadata": {},
   "outputs": [],
   "source": [
    "sales_data['Month'] = sales_data['Order Date'].str.split('/').str[0]\n",
    "sales_data['Time'] = sales_data['Order Date'].str.split(' ').str[1]"
   ]
  },
  {
   "cell_type": "code",
   "execution_count": 15,
   "id": "c8668355",
   "metadata": {},
   "outputs": [
    {
     "name": "stdout",
     "output_type": "stream",
     "text": [
      "        Order ID  Product  Quantity Ordered  Price Each        Order Date  \\\n",
      "0         141234       18                 1      700.00   1/22/2019 21:25   \n",
      "1         141235       12                 1       14.95   1/28/2019 14:15   \n",
      "2         141236       17                 2       11.99   1/17/2019 13:33   \n",
      "3         141237        2                 1      149.99    1/5/2019 20:33   \n",
      "4         141238       17                 1       11.99   1/25/2019 11:59   \n",
      "...          ...      ...               ...         ...               ...   \n",
      "185945    319666       12                 1       14.95  12/11/2019 20:58   \n",
      "185946    319667        4                 2        3.84   12/1/2019 12:01   \n",
      "185947    319668       16                 1      400.00    12/9/2019 6:43   \n",
      "185948    319669       17                 1       11.99   12/3/2019 10:39   \n",
      "185949    319670        7                 1       99.99  12/21/2019 21:45   \n",
      "\n",
      "        City  State Month   Time  \n",
      "0          2      2     1  21:25  \n",
      "1          6      5     1  14:15  \n",
      "2          7      0     1  13:33  \n",
      "3          4      0     1  20:33  \n",
      "4          1      6     1  11:59  \n",
      "...      ...    ...   ...    ...  \n",
      "185945     7      0    12  20:58  \n",
      "185946     4      0    12  12:01  \n",
      "185947     8      7    12   6:43  \n",
      "185948     3      6    12  10:39  \n",
      "185949     4      0    12  21:45  \n",
      "\n",
      "[185950 rows x 9 columns]\n"
     ]
    }
   ],
   "source": [
    "print(sales_data)"
   ]
  },
  {
   "cell_type": "code",
   "execution_count": 16,
   "id": "210878d2",
   "metadata": {},
   "outputs": [],
   "source": [
    "sales_data.drop('Order Date', axis=1, inplace=True)"
   ]
  },
  {
   "cell_type": "code",
   "execution_count": 17,
   "id": "da3a1ee6",
   "metadata": {},
   "outputs": [
    {
     "name": "stdout",
     "output_type": "stream",
     "text": [
      "        Order ID  Product  Quantity Ordered  Price Each  City  State Month  \\\n",
      "0         141234       18                 1      700.00     2      2     1   \n",
      "1         141235       12                 1       14.95     6      5     1   \n",
      "2         141236       17                 2       11.99     7      0     1   \n",
      "3         141237        2                 1      149.99     4      0     1   \n",
      "4         141238       17                 1       11.99     1      6     1   \n",
      "...          ...      ...               ...         ...   ...    ...   ...   \n",
      "185945    319666       12                 1       14.95     7      0    12   \n",
      "185946    319667        4                 2        3.84     4      0    12   \n",
      "185947    319668       16                 1      400.00     8      7    12   \n",
      "185948    319669       17                 1       11.99     3      6    12   \n",
      "185949    319670        7                 1       99.99     4      0    12   \n",
      "\n",
      "         Time  \n",
      "0       21:25  \n",
      "1       14:15  \n",
      "2       13:33  \n",
      "3       20:33  \n",
      "4       11:59  \n",
      "...       ...  \n",
      "185945  20:58  \n",
      "185946  12:01  \n",
      "185947   6:43  \n",
      "185948  10:39  \n",
      "185949  21:45  \n",
      "\n",
      "[185950 rows x 8 columns]\n"
     ]
    }
   ],
   "source": [
    "print(sales_data)"
   ]
  },
  {
   "cell_type": "code",
   "execution_count": 18,
   "id": "e3087239",
   "metadata": {},
   "outputs": [],
   "source": [
    "sales_data['Hour'] = sales_data['Time'].str.split(':').str[0]\n",
    "sales_data['Minute'] = sales_data['Time'].str.split(':').str[1]"
   ]
  },
  {
   "cell_type": "code",
   "execution_count": 19,
   "id": "d375fa37",
   "metadata": {},
   "outputs": [],
   "source": [
    "sales_data.drop('Time', axis=1, inplace=True)"
   ]
  },
  {
   "cell_type": "code",
   "execution_count": 20,
   "id": "a79dc1f8",
   "metadata": {},
   "outputs": [
    {
     "name": "stdout",
     "output_type": "stream",
     "text": [
      "        Order ID  Product  Quantity Ordered  Price Each  City  State Month  \\\n",
      "0         141234       18                 1      700.00     2      2     1   \n",
      "1         141235       12                 1       14.95     6      5     1   \n",
      "2         141236       17                 2       11.99     7      0     1   \n",
      "3         141237        2                 1      149.99     4      0     1   \n",
      "4         141238       17                 1       11.99     1      6     1   \n",
      "...          ...      ...               ...         ...   ...    ...   ...   \n",
      "185945    319666       12                 1       14.95     7      0    12   \n",
      "185946    319667        4                 2        3.84     4      0    12   \n",
      "185947    319668       16                 1      400.00     8      7    12   \n",
      "185948    319669       17                 1       11.99     3      6    12   \n",
      "185949    319670        7                 1       99.99     4      0    12   \n",
      "\n",
      "       Hour Minute  \n",
      "0        21     25  \n",
      "1        14     15  \n",
      "2        13     33  \n",
      "3        20     33  \n",
      "4        11     59  \n",
      "...     ...    ...  \n",
      "185945   20     58  \n",
      "185946   12     01  \n",
      "185947    6     43  \n",
      "185948   10     39  \n",
      "185949   21     45  \n",
      "\n",
      "[185950 rows x 9 columns]\n"
     ]
    }
   ],
   "source": [
    "print(sales_data)"
   ]
  },
  {
   "cell_type": "code",
   "execution_count": 25,
   "id": "5bc6ca94",
   "metadata": {},
   "outputs": [
    {
     "name": "stdout",
     "output_type": "stream",
     "text": [
      "139461 46489\n"
     ]
    }
   ],
   "source": [
    "train = sales_data.loc[sales_data.index < 139461]\n",
    "test = sales_data.loc[sales_data.index >= 139461]\n",
    "\n",
    "print(len(train),len(test))"
   ]
  },
  {
   "cell_type": "code",
   "execution_count": 26,
   "id": "e4f894d9",
   "metadata": {},
   "outputs": [
    {
     "name": "stdout",
     "output_type": "stream",
     "text": [
      "MinMaxScaler()\n"
     ]
    }
   ],
   "source": [
    "scaler = MinMaxScaler()\n",
    "print(scaler.fit(sales_data))"
   ]
  },
  {
   "cell_type": "code",
   "execution_count": 27,
   "id": "ef55d9ce",
   "metadata": {},
   "outputs": [
    {
     "name": "stdout",
     "output_type": "stream",
     "text": [
      "[3.1967e+05 1.8000e+01 9.0000e+00 1.7000e+03 8.0000e+00 7.0000e+00\n",
      " 1.2000e+01 2.3000e+01 5.9000e+01]\n"
     ]
    }
   ],
   "source": [
    "print(scaler.data_max_)"
   ]
  },
  {
   "cell_type": "code",
   "execution_count": 28,
   "id": "d1673c2d",
   "metadata": {},
   "outputs": [
    {
     "name": "stdout",
     "output_type": "stream",
     "text": [
      "[[0.00000000e+00 1.00000000e+00 0.00000000e+00 ... 0.00000000e+00\n",
      "  9.13043478e-01 4.23728814e-01]\n",
      " [5.60425026e-06 6.66666667e-01 0.00000000e+00 ... 0.00000000e+00\n",
      "  6.08695652e-01 2.54237288e-01]\n",
      " [1.12085005e-05 9.44444444e-01 1.25000000e-01 ... 0.00000000e+00\n",
      "  5.65217391e-01 5.59322034e-01]\n",
      " ...\n",
      " [9.99988791e-01 8.88888889e-01 0.00000000e+00 ... 1.00000000e+00\n",
      "  2.60869565e-01 7.28813559e-01]\n",
      " [9.99994396e-01 9.44444444e-01 0.00000000e+00 ... 1.00000000e+00\n",
      "  4.34782609e-01 6.61016949e-01]\n",
      " [1.00000000e+00 3.88888889e-01 0.00000000e+00 ... 1.00000000e+00\n",
      "  9.13043478e-01 7.62711864e-01]]\n"
     ]
    }
   ],
   "source": [
    "print(scaler.transform(sales_data))"
   ]
  }
 ],
 "metadata": {
  "kernelspec": {
   "display_name": "Python 3 (ipykernel)",
   "language": "python",
   "name": "python3"
  },
  "language_info": {
   "codemirror_mode": {
    "name": "ipython",
    "version": 3
   },
   "file_extension": ".py",
   "mimetype": "text/x-python",
   "name": "python",
   "nbconvert_exporter": "python",
   "pygments_lexer": "ipython3",
   "version": "3.10.9"
  }
 },
 "nbformat": 4,
 "nbformat_minor": 5
}
